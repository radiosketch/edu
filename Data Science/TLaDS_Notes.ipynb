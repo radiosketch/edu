{
  "nbformat": 4,
  "nbformat_minor": 0,
  "metadata": {
    "colab": {
      "name": "TLaDS_Notes.ipynb",
      "provenance": [],
      "collapsed_sections": [],
      "toc_visible": true
    },
    "kernelspec": {
      "name": "python3",
      "display_name": "Python 3"
    },
    "language_info": {
      "name": "python"
    }
  },
  "cells": [
    {
      "cell_type": "markdown",
      "source": [
        "[Think Like a Data Scientist - Brian Godsey](https://github.com/aibooks14/Think-DS/blob/main/Think%20Like%20a%20Data%20Scientist.%20%20Tackle%20the%20data%20science%20process%20step-by-step%20(%20PDFDrive%20).pdf)\n",
        "\n",
        "Purpose:  \n",
        "Gather methods in this book to help the planning stage of my project, GPT-MC, get off the ground.\n",
        "Note styles of thinking that may be useful when handling the client data at my current job.\n",
        "\n",
        "7/21/22 Notes:  \n",
        "Relevant to the planning stage are chapters 1 - 5:\n",
        "- Introducing common themes and concepts, then setting intial goals for the project before exploring for potentially useful data. Methods of data collection vary, but all raw data requires processing before examinations can be made. These final assesments inform how to make a fleshed out project plan, and which data is actually useful.\n",
        "\n",
        "Left off on Page 9, paragraph 3.\n"
      ],
      "metadata": {
        "id": "EuWw-_pk6Egn"
      }
    }
  ]
}