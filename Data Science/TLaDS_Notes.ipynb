{
 "cells": [
  {
   "cell_type": "markdown",
   "metadata": {
    "colab_type": "text",
    "id": "view-in-github"
   },
   "source": [
    "<a href=\"https://colab.research.google.com/github/radiosketch/edu/blob/master/Data%20Science/TLaDS_Notes.ipynb\" target=\"_parent\"><img src=\"https://colab.research.google.com/assets/colab-badge.svg\" alt=\"Open In Colab\"/></a>"
   ]
  },
  {
   "cell_type": "markdown",
   "metadata": {
    "id": "EuWw-_pk6Egn"
   },
   "source": [
    "# [Think Like a Data Scientist - Brian Godsey](https://github.com/aibooks14/Think-DS)"
   ]
  },
  {
   "cell_type": "markdown",
   "metadata": {
    "id": "m2E0O0Ekf1vs",
    "tags": []
   },
   "source": [
    "\n",
    "\n",
    "---\n",
    "\n",
    "\n",
    "# Goals\n",
    "- Gather methods in this book to help the planning stage of my project, GPT-MC, get off the ground.  \n",
    "- Note styles of thinking that may be useful when handling data at my current job.\n",
    "\n",
    "\n",
    "---\n",
    "\n",
    "\n"
   ]
  },
  {
   "cell_type": "markdown",
   "metadata": {
    "id": "Nb0UYbmMfvY8",
    "tags": []
   },
   "source": [
    "## Notes Overview on Ch. 1-5   \n",
    "> Chapters 1-5 describe the process of planning a data-centric project, which go as follows; introducing common themes and concepts, then setting intial goals for the project before exploring for potentially useful data. Methods of data collection vary, but all raw data requires processing before examinations can be made. These final assesments inform how to make a fleshed out project plan, and which data is actually useful.  \n",
    "Listed below are the chapters, and sections of notes taken from concepts that I found relevant or new.\n",
    "\n",
    "### 1. Themes and Concepts\n",
    "  - Decisionmaking in the Planning Process\n",
    "  - Dealing with Complex Algorithms\n",
    "\n",
    "### 2. Setting Goals\n",
    "  - Expectations & Uncertainty\n",
    "  - Deliverables\n",
    "\n",
    "> Left off on page 49, paragraph 2"
   ]
  },
  {
   "cell_type": "markdown",
   "metadata": {
    "id": "tGdw_LXagzYL"
   },
   "source": [
    "### Decisionmaking in the Planning Process *(pg. 12: Priorities)*\n",
    "> Chapter 1 poses a common problem; supposing you have a large amount of data and a statistical model for estimating parameters. Furthermore, you have a tool for loading data into a system that performs statistical-parameter-optimization.  \n",
    "> This tool may be a decent solution, but not as robust as a theoretical solution that has not been implemented, so you have two options:  \n",
    "\n",
    "**A.** Take the time to implement the more robust tool  \n",
    "**B.** Use the existing tool with less-than-optimal results.  \n",
    "\n",
    "> A is the correct choice, but if you should be constrained by time you **must** document that a sacrifice has been made and **report your results with this in mind.**"
   ]
  },
  {
   "cell_type": "markdown",
   "metadata": {
    "id": "0ZSDC0Xqthlx"
   },
   "source": [
    "### Dealing with Complex Algorithms *(pg. 17: Stay close to the data)*\n",
    "> Ensure that the results of complex algorithms (such as *black box* methods seen in machine learning) can be verified, justified, or supported by simpler methods that are 'close to the data'.  \n",
    "More examples of 'close to the data' methods will be explained later."
   ]
  },
  {
   "cell_type": "markdown",
   "metadata": {
    "id": "thJ8E9--92-b"
   },
   "source": [
    "### Expectations & Uncertainty *(pg. 20: Listening to the customer)*\n",
    "> Expectations and uncertainty dictate the goals which need to be set, and can come from almost anywhere. They will require you to:  \n",
    "\n",
    "- Recognize opinions that could bias your results, and\n",
    "- Uncover useful facts by asking questions that are meaningful in the customer's domain of expertise  \n",
    "\n",
    "> The following elements factor greatly into the goal-making process. Note that the customer is also a valuable source for uncovering crucial goals, caveats, and expectations. Maintaining close contact with the customer should be a strong preference.  \n",
    "\n",
    "- Questions that need answering  \n",
    "- Problems that need solving\n",
    "- A tangible final product\n",
    "- Summaries of prior research or related projects\n",
    "- Hopes and dreams"
   ]
  },
  {
   "cell_type": "markdown",
   "metadata": {},
   "source": [
    "### Deliverables (pg. 24: Suggesting deliverables: guess and check)\n",
    "> "
   ]
  },
  {
   "cell_type": "markdown",
   "metadata": {
    "id": "0NRCZh45hFgY"
   },
   "source": [
    "### New Terms\n",
    "\n",
    "> - Maximum Likeleihood Estimation (MLE): Find the single most likely parameter value.  "
   ]
  },
  {
   "cell_type": "markdown",
   "metadata": {
    "id": "AOj_81vbg5Oh"
   },
   "source": [
    "### Ideas & Questions\n",
    "\n",
    "> GPT-MC:\n",
    "- Chapter 1:\n",
    "  - It may be useful to collect data on players while using the product. However, deciding what data to collect is a difficult problem."
   ]
  }
 ],
 "metadata": {
  "colab": {
   "collapsed_sections": [],
   "include_colab_link": true,
   "name": "Copy of TLaDS_Notes.ipynb",
   "provenance": []
  },
  "kernelspec": {
   "display_name": "Python 3 (ipykernel)",
   "language": "python",
   "name": "python3"
  },
  "language_info": {
   "codemirror_mode": {
    "name": "ipython",
    "version": 3
   },
   "file_extension": ".py",
   "mimetype": "text/x-python",
   "name": "python",
   "nbconvert_exporter": "python",
   "pygments_lexer": "ipython3",
   "version": "3.10.5"
  }
 },
 "nbformat": 4,
 "nbformat_minor": 4
}
