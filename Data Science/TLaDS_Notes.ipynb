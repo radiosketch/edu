{
  "cells": [
    {
      "cell_type": "markdown",
      "metadata": {
        "id": "view-in-github",
        "colab_type": "text"
      },
      "source": [
        "<a href=\"https://colab.research.google.com/github/radiosketch/edu/blob/master/Data%20Science/TLaDS_Notes.ipynb\" target=\"_parent\"><img src=\"https://colab.research.google.com/assets/colab-badge.svg\" alt=\"Open In Colab\"/></a>"
      ]
    },
    {
      "cell_type": "markdown",
      "metadata": {
        "id": "EuWw-_pk6Egn"
      },
      "source": [
        "# [Think Like a Data Scientist - Brian Godsey](https://github.com/aibooks14/Think-DS)"
      ]
    },
    {
      "cell_type": "markdown",
      "metadata": {
        "id": "m2E0O0Ekf1vs",
        "tags": []
      },
      "source": [
        "\n",
        "\n",
        "---\n",
        "\n",
        "\n",
        "# Goals\n",
        "- Gather methods in this book to help the planning stage of my project, GPT-MC, get off the ground.  \n",
        "- Note styles of thinking that may be useful when handling data at my current job.\n",
        "\n",
        "\n",
        "---\n",
        "\n",
        "\n"
      ]
    },
    {
      "cell_type": "markdown",
      "metadata": {
        "id": "Nb0UYbmMfvY8",
        "tags": []
      },
      "source": [
        "## Notes Overview on Ch. 1-5   \n",
        "> Chapters 1-5 describe the process of planning a data-centric project, which goes as follows; introducing common themes and concepts, then setting intial goals for the project before exploring for potentially useful data. Methods of data collection vary, but all raw data requires processing before examinations can be made. These final assesments inform how to make a fleshed out project plan, and which data is actually useful.\n",
        "\n",
        "### 1. Themes and Concepts\n",
        "  - Decisionmaking\n",
        "  - Best practices\n",
        "\n",
        "### 2. Setting Goals\n",
        "  - Expectations\n",
        "\n",
        "Left off on page 22, paragraph 1"
      ]
    },
    {
      "cell_type": "markdown",
      "metadata": {
        "id": "tGdw_LXagzYL"
      },
      "source": [
        "### Decisionmaking in the planning process *(pg. 12-13: Priorities)*\n",
        "> Chapter 1 poses a common problem; supposing you have a large amount of data and a statistical model for estimating parameters. Furthermore, you have a tool for loading data into a system that performs statistical-parameter-optimization.  \n",
        "  This tool may be a decent solution, but not as robust as a theoretical solution that has not been implemented, so you have two options:  \n",
        "- A. Take the time to implement the more robust tool  \n",
        "- B. Use the existing tool with less-than-optimal results.  \n",
        "\n",
        "> A is the correct choice, but if you should be constrained by time you **must** document that a sacrifice has been made and **report your results with this in mind.**"
      ]
    },
    {
      "cell_type": "markdown",
      "metadata": {
        "id": "0ZSDC0Xqthlx"
      },
      "source": [
        "### Dealing wih complex algorithms *(pg. 17: Stay close to the data)*\n",
        "> Ensure that the results of complex algorithms (such as *black box* methods seen in machine learning) can be verified, justified, or supported by simpler methods that are 'close to the data'.  \n",
        "\n",
        "More examples of 'close to the data' methods will be explained later."
      ]
    },
    {
      "cell_type": "markdown",
      "metadata": {
        "id": "thJ8E9--92-b"
      },
      "source": [
        "### Expectations *(pg. 20: Listening to the customer)*\n",
        "> Expectations guide the types of goals which need to be set, and can come from almost anywhere. New data provides an uncertainty that factors greatly into whether these expectations can be met.  \n",
        "\n",
        "> These expectations factor greatly into the goal-making process:\n",
        "- Questions that need answering  \n",
        "- Problems that need solving\n",
        "- A tangible final product\n",
        "- Summaries of prior research or related projects\n",
        "- Hopes and dreams\n",
        "\n",
        "> There are also many limiting factors that may prevent you from achieving expectations:\n",
        "- Uncertainty"
      ]
    },
    {
      "cell_type": "markdown",
      "metadata": {
        "id": "0NRCZh45hFgY"
      },
      "source": [
        "### New Terms\n",
        "\n",
        "> - Maximum Likeleihood Estimation (MLE): Find the single most likely parameter value.  "
      ]
    },
    {
      "cell_type": "markdown",
      "metadata": {
        "id": "AOj_81vbg5Oh"
      },
      "source": [
        "### Ideas & Questions\n",
        "\n",
        "> GPT-MC:\n",
        "- Chapter 1:\n",
        "  - It may be useful to collect data on players while using the product. However, deciding what data to collect is a difficult problem."
      ]
    }
  ],
  "metadata": {
    "colab": {
      "collapsed_sections": [],
      "name": "Copy of TLaDS_Notes.ipynb",
      "provenance": [],
      "include_colab_link": true
    },
    "kernelspec": {
      "display_name": "Python 3 (ipykernel)",
      "language": "python",
      "name": "python3"
    },
    "language_info": {
      "codemirror_mode": {
        "name": "ipython",
        "version": 3
      },
      "file_extension": ".py",
      "mimetype": "text/x-python",
      "name": "python",
      "nbconvert_exporter": "python",
      "pygments_lexer": "ipython3",
      "version": "3.10.5"
    }
  },
  "nbformat": 4,
  "nbformat_minor": 0
}