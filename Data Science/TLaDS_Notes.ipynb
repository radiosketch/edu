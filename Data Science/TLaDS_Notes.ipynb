{
  "nbformat": 4,
  "nbformat_minor": 0,
  "metadata": {
    "colab": {
      "name": "Copy of TLaDS_Notes.ipynb",
      "provenance": [],
      "collapsed_sections": [],
      "toc_visible": true,
      "include_colab_link": true
    },
    "kernelspec": {
      "name": "python3",
      "display_name": "Python 3"
    },
    "language_info": {
      "name": "python"
    }
  },
  "cells": [
    {
      "cell_type": "markdown",
      "metadata": {
        "id": "view-in-github",
        "colab_type": "text"
      },
      "source": [
        "<a href=\"https://colab.research.google.com/github/radiosketch/edu/blob/master/Data%20Science/TLaDS_Notes.ipynb\" target=\"_parent\"><img src=\"https://colab.research.google.com/assets/colab-badge.svg\" alt=\"Open In Colab\"/></a>"
      ]
    },
    {
      "cell_type": "markdown",
      "source": [
        "# [Think Like a Data Scientist - Brian Godsey](https://github.com/aibooks14/Think-DS/blob/main/Think%20Like%20a%20Data%20Scientist.%20%20Tackle%20the%20data%20science%20process%20step-by-step%20(%20PDFDrive%20)"
      ],
      "metadata": {
        "id": "EuWw-_pk6Egn"
      }
    },
    {
      "cell_type": "markdown",
      "source": [
        "\n",
        "\n",
        "---\n",
        "\n",
        "\n",
        "# Goals\n",
        "- Gather methods in this book to help the planning stage of my project, GPT-MC, get off the ground.  \n",
        "- Note styles of thinking that may be useful when handling data at my current job.\n",
        "\n",
        "\n",
        "---\n",
        "\n",
        "\n"
      ],
      "metadata": {
        "id": "m2E0O0Ekf1vs"
      }
    },
    {
      "cell_type": "markdown",
      "source": [
        "## Notes Overview \n",
        "> Relevant to the planning stage are chapters 1 - 5, which can be considered steps towards planning a data-centric project:\n",
        "- Introducing common themes and concepts, then setting intial goals for the project before exploring for potentially useful data. Methods of data collection vary, but all raw data requires processing before examinations can be made. These final assesments inform how to make a fleshed out project plan, and which data is actually useful.\n",
        "- When working with complex algorithms to handle data, ensure that results can be verified, justified, or supported by simpler methods that are \"close to the data\" (pg. 17: Stay close to the data)\n",
        "\n",
        "> 1. Themes and Concepts\n",
        "  - Decisionmaking\n",
        "  - Best Practices\n",
        "\n",
        "### Left off on Page 17, Stay close to the data"
      ],
      "metadata": {
        "id": "Nb0UYbmMfvY8"
      }
    },
    {
      "cell_type": "markdown",
      "source": [
        "### Decisionmaking in the planning process (pg. 12-13: Priorities)\n",
        "> Chapter 1 poses a common problem; supposing you have a large amount of data and a statistical model for estimating parameters. Furthermore, you have a tool for loading data into a system that performs statistical-parameter-optimization.  \n",
        "  This tool may be a decent solution, but not as robust as a theoretical solution that has not been implemented, so you have two options:  \n",
        "- A. Take the time to implement the more robust tool  \n",
        "- B. Use the existing tool with less-than-optimal results.  \n",
        "\n",
        "A is the correct choice, but if you should be constrained by time you **must** document that a sacrifice has been made and **report your results with this in mind.**"
      ],
      "metadata": {
        "id": "tGdw_LXagzYL"
      }
    },
    {
      "cell_type": "markdown",
      "source": [
        "### Dealing wih complex algorithms (pg. 17: Stay close to the data)\n",
        "> Ensure that the results of complex algorithms (such as *black box* methods seen in machine learning) can be verified, justified, or supported by simpler methods that are 'close to the data'.  \n",
        "\n",
        "More examples of 'close to the data' methods will be explained later."
      ],
      "metadata": {
        "id": "0ZSDC0Xqthlx"
      }
    },
    {
      "cell_type": "markdown",
      "source": [
        "### New Terms\n",
        "\n",
        "> - Maximum Likeleihood Estimation (MLE): Find the single most likely parameter value.  "
      ],
      "metadata": {
        "id": "0NRCZh45hFgY"
      }
    },
    {
      "cell_type": "markdown",
      "source": [
        "### Ideas\n",
        "\n",
        "> GPT-MC:\n",
        "- Inspired by CH.1, it may be useful to collect data on players while using the product. However, deciding what data to collect is a difficult problem."
      ],
      "metadata": {
        "id": "AOj_81vbg5Oh"
      }
    }
  ]
}
