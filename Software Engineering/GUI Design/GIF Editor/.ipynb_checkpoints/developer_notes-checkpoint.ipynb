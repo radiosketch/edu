{
 "cells": [
  {
   "cell_type": "markdown",
   "id": "5c34b1dd-0db0-4518-b5ef-fdefae9b2310",
   "metadata": {
    "id": "5c34b1dd-0db0-4518-b5ef-fdefae9b2310"
   },
   "source": [
    "## To Do:\n",
    "- Convert the non-gui implementation in main.py to use a gui\n",
    "- Use [tkinter documentation](https://docs.python.org/3/library/tk.html)\n",
    "- Implement the following features:\n",
    "    - **Resize**\n",
    "        - Prompt for a new image size\n",
    "        - See [ezgif](https://ezgif.com/resize) for inspiration\n",
    "    - **Timeline Scrubbing**\n",
    "        - View edits as highlighted sections on the timeline\n",
    "        - Multiple edits are shown in horizontal strips, stacked on top of each other, with identifying colors, text, and relevant info\n",
    "        - Drag the edges of a strip to change the duration\n",
    "    - **Edit Durations**\n",
    "        - AKA KEYFRAMES\n",
    "        - Input the number of frames a particular edit should be duplicated across.\n",
    "    - **Edit Transitions**\n",
    "        - AKA KEYFRAME TRANSITIONS\n",
    "        - Global edits can be set to transition over a number of frames\n",
    "        - Transition interpolations (Linear, Cosine, Cubic)\n",
    "    - **Copy/Paste Selection**\n",
    "        - Selections can be copy/pasted from a single frame to multiple frames, or continuously sampled from another section of the frame, every frame.\n",
    "        - Click the tool icon\n",
    "        - Drag or Click two points, A & B, to select a rectangle.\n",
    "            - Hold CTRL+Drag to get a perfect square\n",
    "        - Drag the corners to edit the selection\n",
    "            - Edits to the selection bbox can be made as keyframes, or as timeline-wide edits.\n",
    "        - Press Enter to Select\n",
    "    - **Paint Tools**\n",
    "        - Onion Skin Option\n",
    "        - Brush Size, Opacity, \n",
    "    - **Select Ellipse**\n",
    "        - Hold CTRL+Drag to get a perfect circle\n",
    "    - **Select Lasso**\n",
    "        - Drag the mouse around to select something\n",
    "    - **Color Select**\n",
    "        - Threshold\n",
    "    - **HSL**\n",
    "        - Hue, Saturation, Lightness\n",
    "    - **BC**\n",
    "        - Brightness, Contrast\n",
    "    - **Color LUT**\n",
    "    - **Import GIF with URL**\n",
    "    - **Export GIF**\n",
    "- Stretch Goals\n",
    "    - 3D Animated Templates\n",
    "        - Cube Spin\n",
    "- Come up with more ideas for features; refer to a dumb non-moving image editor like MS Paint, or [Pixlr E](https://pixlr.com/e/) for inspiration.\n",
    "- [Flixier](https://editor.flixier.com) is an online video editor with many features pertainent to moving images. See a demo of the software [here](https://www.youtube.com/watch?v=nFL08KtpXws)\n",
    "- Blender has a fleshed-out video editing environment, refer to that once most basic features are implemented."
   ]
  },
  {
   "cell_type": "markdown",
   "id": "3231a15f-e91f-4a93-9ab7-379470ad5c07",
   "metadata": {
    "id": "3231a15f-e91f-4a93-9ab7-379470ad5c07"
   },
   "source": [
    "## Notes:\n",
    "- Check docs on Pyinstaller to get more info on including asset files into the final .exe\n",
    "    - The taskbar icon can only be set with Pyinstaller using ```pyinstaller --icon=icon.ico myscript.py```"
   ]
  },
  {
   "cell_type": "markdown",
   "id": "50dcd527-eccd-4540-a166-7da4dd3f4d94",
   "metadata": {
    "id": "50dcd527-eccd-4540-a166-7da4dd3f4d94"
   },
   "source": [
    "## Testing Sandbox"
   ]
  },
  {
   "cell_type": "markdown",
   "id": "8L9RTmRhc_dm",
   "metadata": {
    "id": "8L9RTmRhc_dm"
   },
   "source": [
    "### Example of binding events to tkinter.Canvas\n",
    "Be aware: tkinter will not work when running the following code in the cloud. Use a local install of jupyter-lab."
   ]
  },
  {
   "cell_type": "code",
   "execution_count": 1,
   "id": "31eeae2d-a2f8-43e3-8cb0-f54cd4d0bcc9",
   "metadata": {
    "id": "31eeae2d-a2f8-43e3-8cb0-f54cd4d0bcc9"
   },
   "outputs": [],
   "source": [
    "from tkinter import *\n",
    "root = Tk()"
   ]
  },
  {
   "cell_type": "markdown",
   "id": "8af4eaa9-1aa2-4cd4-8851-55f468e7028c",
   "metadata": {
    "id": "8af4eaa9-1aa2-4cd4-8851-55f468e7028c"
   },
   "source": [
    "Creating a new class for the interactive canvas"
   ]
  },
  {
   "cell_type": "code",
   "execution_count": 2,
   "id": "8d21b7d3-0918-4a1b-93b3-6f91862373db",
   "metadata": {
    "id": "8d21b7d3-0918-4a1b-93b3-6f91862373db"
   },
   "outputs": [],
   "source": [
    "class DrawCanvas(Canvas):\n",
    "    def __init__(self, *args, **kwargs):\n",
    "        super().__init__(*args, **kwargs)\n",
    "        \n",
    "    def paint(self, event):\n",
    "        self.create_oval(event.x - 3, event.y - 3, event.x + 3, event.y + 3)"
   ]
  },
  {
   "cell_type": "markdown",
   "id": "f1e88cb1-c2dc-4543-ab16-b0235b6d0586",
   "metadata": {
    "id": "f1e88cb1-c2dc-4543-ab16-b0235b6d0586"
   },
   "source": [
    "Initializing the newly extended canvas, packing it to the root, and binding the proper events to the canvas for painting:\n",
    "- ```<1>``` Primary mouse button down \n",
    "- ```<B1-Motion>``` Motion of the mouse while the primary button is down  \n",
    "\n",
    "See a full list of the tkinter events [here on effbot.org](https://web.archive.org/web/20201111211515id_/https://effbot.org/tkinterbook/tkinter-events-and-bindings.htm)"
   ]
  },
  {
   "cell_type": "code",
   "execution_count": 3,
   "id": "0dd4ab4b-e183-4535-beb4-f5ceb2db708a",
   "metadata": {
    "id": "0dd4ab4b-e183-4535-beb4-f5ceb2db708a"
   },
   "outputs": [],
   "source": [
    "c = DrawCanvas(root, width=300, height=300, bg='#E8D7F1')\n",
    "c.pack(expand=True, fill='both')\n",
    "c.bind('<1>', c.paint)\n",
    "c.bind('<B1-Motion>', c.paint)\n",
    "root.mainloop()"
   ]
  },
  {
   "cell_type": "markdown",
   "id": "435baa6e-6065-4617-a3bb-2ebd86d2f198",
   "metadata": {
    "id": "435baa6e-6065-4617-a3bb-2ebd86d2f198"
   },
   "source": [
    "Try clicking and dragging the mouse on the new window!"
   ]
  },
  {
   "cell_type": "markdown",
   "id": "z_8_fSTg_O2K",
   "metadata": {
    "id": "z_8_fSTg_O2K"
   },
   "source": [
    "### Attempting to make an opimized zoom function for GIFCanvas"
   ]
  },
  {
   "cell_type": "code",
   "execution_count": 4,
   "id": "Aje8YHYgBBoT",
   "metadata": {
    "id": "Aje8YHYgBBoT"
   },
   "outputs": [],
   "source": [
    "from PIL import Image\n",
    "import math"
   ]
  },
  {
   "cell_type": "markdown",
   "id": "GJG-_Q9cO7ue",
   "metadata": {
    "id": "GJG-_Q9cO7ue"
   },
   "source": [
    "Timer function for displaying optimizations in a tangible way"
   ]
  },
  {
   "cell_type": "code",
   "execution_count": 5,
   "id": "ahnLPM5FKDHE",
   "metadata": {
    "id": "ahnLPM5FKDHE"
   },
   "outputs": [],
   "source": [
    "import time\n",
    "def timeit(func, *args, **kwargs):\n",
    "  \"\"\"\n",
    "  Stopwatch for any function\n",
    "  \"\"\"\n",
    "  start = time.time()\n",
    "  out = func(*args, **kwargs)\n",
    "  dt = time.time() - start\n",
    "  return dt, out"
   ]
  },
  {
   "cell_type": "markdown",
   "id": "oWaeGczYPGw-",
   "metadata": {
    "id": "oWaeGczYPGw-"
   },
   "source": [
    "The generator function for making a checkerboard grid as a specific zoom"
   ]
  },
  {
   "cell_type": "code",
   "execution_count": 6,
   "id": "hmubA-_7_dVq",
   "metadata": {
    "id": "hmubA-_7_dVq"
   },
   "outputs": [],
   "source": [
    "# Generate a small section of background\n",
    "def generate_tile(zoom=1, width=250, height=250):\n",
    "  # Define grid colors\n",
    "  lg = 255 // 2\n",
    "  dg = 255 // 3\n",
    "\n",
    "  # Starting by making a much smaller image\n",
    "  # Making the grid cells the right size is done later using img.resize()\n",
    "  # Using math.ceil so the dimensions are integers\n",
    "  u_width = math.ceil(width / zoom)\n",
    "  u_height = math.ceil(height / zoom)\n",
    "  img = Image.new('RGB', (u_width, u_height), color=(dg, dg, dg))\n",
    "\n",
    "  # Change every other pixel to get a checkboard\n",
    "  pixels = img.load()\n",
    "  k = 0\n",
    "  for i in range(0, img.size[0]):\n",
    "    for j in range(k, img.size[1], 2):\n",
    "      pixels[i, j] = (lg, lg, lg)\n",
    "    k = not k\n",
    "\n",
    "  # Return the full size image, size rounded to fit grid cells evenly\n",
    "  # Resampling with Image.BOX will not use any smoothing\n",
    "  return img.resize((u_width * zoom, u_height * zoom), resample=Image.BOX)"
   ]
  },
  {
   "cell_type": "markdown",
   "id": "5iyS6_AIMEIl",
   "metadata": {
    "id": "5iyS6_AIMEIl"
   },
   "source": [
    "Generated images look like a light grey & dark grey checkerboard grid, as seen in many photo editors"
   ]
  },
  {
   "cell_type": "code",
   "execution_count": 7,
   "id": "Y9xeR8MIFZVa",
   "metadata": {
    "colab": {
     "base_uri": "https://localhost:8080/",
     "height": 284
    },
    "id": "Y9xeR8MIFZVa",
    "outputId": "15a6e6fd-8364-4e36-d597-e273b3d7c4d8"
   },
   "outputs": [
    {
     "name": "stdout",
     "output_type": "stream",
     "text": [
      "Time: 0.00625s (500, 250)\n"
     ]
    },
    {
     "name": "stderr",
     "output_type": "stream",
     "text": [
      "C:\\Users\\patri\\AppData\\Local\\Temp\\ipykernel_13152\\1288305059.py:24: DeprecationWarning: BOX is deprecated and will be removed in Pillow 10 (2023-07-01). Use Resampling.BOX instead.\n",
      "  return img.resize((u_width * zoom, u_height * zoom), resample=Image.BOX)\n"
     ]
    },
    {
     "data": {
      "image/png": "[encoded data removed]",
      "text/plain": [
       "<PIL.Image.Image image mode=RGB size=500x250>"
      ]
     },
     "metadata": {},
     "output_type": "display_data"
    }
   ],
   "source": [
    "# Zoom is equivalent to the size of each grid cell in pixels\n",
    "t, img = timeit(generate_tile, zoom=10, width=500, height=250)\n",
    "print(f'Time: {round(t, 5)}s', img.size)\n",
    "display(img)"
   ]
  },
  {
   "cell_type": "markdown",
   "id": "Kl4He4CXL712",
   "metadata": {
    "id": "Kl4He4CXL712"
   },
   "source": [
    "#### Plotting the time taken to generate different sized tiles"
   ]
  },
  {
   "cell_type": "code",
   "execution_count": 8,
   "id": "EcdeuY2_Mk66",
   "metadata": {
    "id": "EcdeuY2_Mk66"
   },
   "outputs": [],
   "source": [
    "import numpy as np\n",
    "from matplotlib import pyplot as plt\n",
    "from matplotlib import animation\n",
    "from matplotlib import style\n",
    "style.use('dark_background')\n",
    "\n",
    "# rc is necessary to play animations in python notebooks\n",
    "from matplotlib import rc\n",
    "rc('animation', html='jshtml')"
   ]
  },
  {
   "cell_type": "markdown",
   "id": "FezICU6wh-GF",
   "metadata": {
    "id": "FezICU6wh-GF"
   },
   "source": [
    "The following method will graph the efficiency of any grid generation function that takes the parameters:  \n",
    "```(width: int, height: int: zoom: int)```"
   ]
  },
  {
   "cell_type": "code",
   "execution_count": 9,
   "id": "XwYeGIGqGQLi",
   "metadata": {
    "id": "XwYeGIGqGQLi"
   },
   "outputs": [],
   "source": [
    "def test_generation_time(func):\n",
    "  \"\"\"\n",
    "  func: The generation function to be tested\n",
    "  Parameters of func MUST be the following\n",
    "  (width: int, height: int, zoom: int)\n",
    "\n",
    "  For maximum stress, the zoom is fixed at the minimum of 1\n",
    "  \"\"\"\n",
    "\n",
    "  fig = plt.figure()\n",
    "  ax = plt.axes()\n",
    "\n",
    "  x = []\n",
    "  y = []\n",
    "\n",
    "  def animate(i, step):\n",
    "    ax.clear()\n",
    "\n",
    "    plt.title('Calculation time of generate_tile()')\n",
    "    ax.set_xlabel('Pixels Generated')\n",
    "    ax.set_ylabel('Time Taken (s)')\n",
    "\n",
    "    v = i * step\n",
    "    x.append(v**2)\n",
    "    t, _img = timeit(func, width=v, height=v, zoom=1)\n",
    "    y.append(t)\n",
    "    p = ax.plot(x, y)\n",
    "    a, b = np.polyfit(x, y, 1)\n",
    "    l, = ax.plot(x, a*np.array(x)+b)\n",
    "    l.set_label(f'Slope: {a}')\n",
    "    ax.legend()\n",
    "    return p\n",
    "\n",
    "  p = None\n",
    "  for i in range(1, 50):\n",
    "    p = animate(i, 20)\n",
    "  p"
   ]
  },
  {
   "cell_type": "code",
   "execution_count": 10,
   "id": "9zMi-hqnfHeJ",
   "metadata": {
    "colab": {
     "base_uri": "https://localhost:8080/",
     "height": 312
    },
    "id": "9zMi-hqnfHeJ",
    "outputId": "cd3aaf77-837f-4b5c-9a02-860bbbae8146"
   },
   "outputs": [
    {
     "name": "stderr",
     "output_type": "stream",
     "text": [
      "C:\\Users\\patri\\AppData\\Local\\Temp\\ipykernel_13152\\1288305059.py:24: DeprecationWarning: BOX is deprecated and will be removed in Pillow 10 (2023-07-01). Use Resampling.BOX instead.\n",
      "  return img.resize((u_width * zoom, u_height * zoom), resample=Image.BOX)\n",
      "C:\\Users\\patri\\AppData\\Local\\Temp\\ipykernel_13152\\919693691.py:36: RankWarning: Polyfit may be poorly conditioned\n",
      "  p = animate(i, 20)\n"
     ]
    },
    {
     "data": {
      "image/png": "[encoded data removed]",
      "text/plain": [
       "<Figure size 432x288 with 1 Axes>"
      ]
     },
     "metadata": {
      "needs_background": "dark"
     },
     "output_type": "display_data"
    }
   ],
   "source": [
    "test_generation_time(generate_tile)"
   ]
  },
  {
   "cell_type": "markdown",
   "id": "VrH28sBwbke1",
   "metadata": {
    "id": "VrH28sBwbke1"
   },
   "source": [
    "Notice that there is a linear relationship between the number of pixels generated and the time taken to generate. Keeping generation time low is imperative, so testing other methods may be useful."
   ]
  }
 ],
 "metadata": {
  "colab": {
   "name": "developer_notes.ipynb",
   "provenance": []
  },
  "kernelspec": {
   "display_name": "Python 3 (ipykernel)",
   "language": "python",
   "name": "python3"
  },
  "language_info": {
   "codemirror_mode": {
    "name": "ipython",
    "version": 3
   },
   "file_extension": ".py",
   "mimetype": "text/x-python",
   "name": "python",
   "nbconvert_exporter": "python",
   "pygments_lexer": "ipython3",
   "version": "3.10.5"
  }
 },
 "nbformat": 4,
 "nbformat_minor": 5
}
