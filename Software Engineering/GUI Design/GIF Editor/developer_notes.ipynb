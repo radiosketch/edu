{
 "cells": [
  {
   "cell_type": "markdown",
   "id": "5c34b1dd-0db0-4518-b5ef-fdefae9b2310",
   "metadata": {},
   "source": [
    "## To Do:\n",
    "- Convert the non-gui implementation in main.py to use a gui\n",
    "- Use [tkinter documentation](https://docs.python.org/3/library/tk.html)\n",
    "- Implement the following features:\n",
    "    - **Resize**\n",
    "        - Prompt for a new image size\n",
    "        - See [ezgif](https://ezgif.com/resize) for inspiration\n",
    "    - **Timeline Scrubbing**\n",
    "        - View edits as highlighted sections on the timeline\n",
    "        - Multiple edits are shown in horizontal strips, stacked on top of each other, with identifying colors, text, and relevant info\n",
    "        - Drag the edges of a strip to change the duration\n",
    "    - **Edit Durations**\n",
    "        - Input the number of frames a particular edit should be duplicated across.\n",
    "    - **Edit Transitions**\n",
    "        - Global edits can be set to transition over a number of frames\n",
    "        - Transition interpolations (Linear, Cosine, Cubic)\n",
    "    - **Copy/Paste Selection**\n",
    "        - Click the tool icon\n",
    "        - Drag or Click two points, A & B, to select a rectangle.\n",
    "            - Hold CTRL+Drag to get a perfect square\n",
    "        - Drag the corners to edit the selection\n",
    "        - Press Enter to Select\n",
    "    - **Paint Tools**\n",
    "        - Onion Skin Option\n",
    "        - Brush Size, Opacity, \n",
    "    - **Select Ellipse**\n",
    "        - Hold CTRL+Drag to get a perfect circle\n",
    "    - **Select Lasso**\n",
    "        - Drag the mouse around to select something\n",
    "    - **Color Select**\n",
    "        - Threshold\n",
    "    - **HSL**\n",
    "        - Hue, Saturation, Lightness\n",
    "    - **BC**\n",
    "        - Brightness, Contrast\n",
    "    - **Color LUT**\n",
    "    - **Import GIF with URL**\n",
    "    - **Export GIF**\n",
    "- Stretch Goals\n",
    "    - 3D Animated Templates\n",
    "        - Cube Spin\n",
    "- Come up with more ideas for features; refer to a dumb non-moving image editor like MS Paint, or [Pixlr E](https://pixlr.com/e/) for inspiration."
   ]
  },
  {
   "cell_type": "markdown",
   "id": "3231a15f-e91f-4a93-9ab7-379470ad5c07",
   "metadata": {},
   "source": [
    "## Notes:\n",
    "- Check docs on Pyinstaller to get more info on including asset files into the final .exe\n",
    "    - The taskbar icon can only be set with Pyinstaller using ```pyinstaller --icon=icon.ico myscript.py```"
   ]
  },
  {
   "cell_type": "code",
   "execution_count": null,
   "id": "a99d3a3d-5549-48d6-a1a4-88d74c07b569",
   "metadata": {},
   "outputs": [],
   "source": []
  }
 ],
 "metadata": {
  "kernelspec": {
   "display_name": "Python 3 (ipykernel)",
   "language": "python",
   "name": "python3"
  },
  "language_info": {
   "codemirror_mode": {
    "name": "ipython",
    "version": 3
   },
   "file_extension": ".py",
   "mimetype": "text/x-python",
   "name": "python",
   "nbconvert_exporter": "python",
   "pygments_lexer": "ipython3",
   "version": "3.10.5"
  }
 },
 "nbformat": 4,
 "nbformat_minor": 5
}
