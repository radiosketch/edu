{
 "cells": [
  {
   "cell_type": "markdown",
   "id": "5c34b1dd-0db0-4518-b5ef-fdefae9b2310",
   "metadata": {},
   "source": [
    "## To Do:\n",
    "- Convert the non-gui implementation in main.py to use a gui\n",
    "- Use [tkinter documentation](https://docs.python.org/3/library/tk.html)\n",
    "- Implement the following features:\n",
    "    - **Resize**\n",
    "        - Prompt for a new image size\n",
    "        - See [ezgif](https://ezgif.com/resize) for inspiration\n",
    "    - **Timeline Scrubbing**\n",
    "        - View edits as highlighted sections on the timeline\n",
    "        - Multiple edits are shown in horizontal strips, stacked on top of each other, with identifying colors, text, and relevant info\n",
    "        - Drag the edges of a strip to change the duration\n",
    "    - **Edit Durations**\n",
    "        - AKA KEYFRAMES\n",
    "        - Input the number of frames a particular edit should be duplicated across.\n",
    "    - **Edit Transitions**\n",
    "        - AKA KEYFRAME TRANSITIONS\n",
    "        - Global edits can be set to transition over a number of frames\n",
    "        - Transition interpolations (Linear, Cosine, Cubic)\n",
    "    - **Copy/Paste Selection**\n",
    "        - Selections can be copy/pasted from a single frame to multiple frames, or continuously sampled from another section of the frame, every frame.\n",
    "        - Click the tool icon\n",
    "        - Drag or Click two points, A & B, to select a rectangle.\n",
    "            - Hold CTRL+Drag to get a perfect square\n",
    "        - Drag the corners to edit the selection\n",
    "            - Edits to the selection bbox can be made as keyframes, or as timeline-wide edits.\n",
    "        - Press Enter to Select\n",
    "    - **Paint Tools**\n",
    "        - Onion Skin Option\n",
    "        - Brush Size, Opacity, \n",
    "    - **Select Ellipse**\n",
    "        - Hold CTRL+Drag to get a perfect circle\n",
    "    - **Select Lasso**\n",
    "        - Drag the mouse around to select something\n",
    "    - **Color Select**\n",
    "        - Threshold\n",
    "    - **HSL**\n",
    "        - Hue, Saturation, Lightness\n",
    "    - **BC**\n",
    "        - Brightness, Contrast\n",
    "    - **Color LUT**\n",
    "    - **Import GIF with URL**\n",
    "    - **Export GIF**\n",
    "- Stretch Goals\n",
    "    - 3D Animated Templates\n",
    "        - Cube Spin\n",
    "- Come up with more ideas for features; refer to a dumb non-moving image editor like MS Paint, or [Pixlr E](https://pixlr.com/e/) for inspiration.\n",
    "- [Flixier](https://editor.flixier.com) is an online video editor with many features pertainent to moving images. See a demo of the software [here](https://www.youtube.com/watch?v=nFL08KtpXws)\n",
    "- Blender has a fleshed-out video editing environment, refer to that once most basic features are implemented."
   ]
  },
  {
   "cell_type": "markdown",
   "id": "3231a15f-e91f-4a93-9ab7-379470ad5c07",
   "metadata": {},
   "source": [
    "## Notes:\n",
    "- Check docs on Pyinstaller to get more info on including asset files into the final .exe\n",
    "    - The taskbar icon can only be set with Pyinstaller using ```pyinstaller --icon=icon.ico myscript.py```"
   ]
  },
  {
   "cell_type": "markdown",
   "id": "50dcd527-eccd-4540-a166-7da4dd3f4d94",
   "metadata": {},
   "source": [
    "## Testing Sandbox\n",
    "- Example of binding a function to a tkinter Canvas widget"
   ]
  },
  {
   "cell_type": "code",
   "execution_count": 23,
   "id": "31eeae2d-a2f8-43e3-8cb0-f54cd4d0bcc9",
   "metadata": {},
   "outputs": [],
   "source": [
    "from tkinter import *\n",
    "root = Tk()"
   ]
  },
  {
   "cell_type": "markdown",
   "id": "8af4eaa9-1aa2-4cd4-8851-55f468e7028c",
   "metadata": {},
   "source": [
    "Creating a new class for the interactive canvas"
   ]
  },
  {
   "cell_type": "code",
   "execution_count": 24,
   "id": "8d21b7d3-0918-4a1b-93b3-6f91862373db",
   "metadata": {},
   "outputs": [],
   "source": [
    "class DrawCanvas(Canvas):\n",
    "    def __init__(self, *args, **kwargs):\n",
    "        super().__init__(*args, **kwargs)\n",
    "        \n",
    "    def paint(self, event):\n",
    "        self.create_oval(event.x - 3, event.y - 3, event.x + 3, event.y + 3)"
   ]
  },
  {
   "cell_type": "markdown",
   "id": "f1e88cb1-c2dc-4543-ab16-b0235b6d0586",
   "metadata": {},
   "source": [
    "Initializing the newly extended canvas, packing it to the root, and binding the proper events to the canvas for painting:\n",
    "- ```<1>``` Primary mouse button down \n",
    "- ```<B1-Motion>``` Motion of the mouse while the primary button is down  \n",
    "\n",
    "See a full list of the tkinter events [here on effbot.org](https://web.archive.org/web/20201111211515id_/https://effbot.org/tkinterbook/tkinter-events-and-bindings.htm)"
   ]
  },
  {
   "cell_type": "code",
   "execution_count": 25,
   "id": "0dd4ab4b-e183-4535-beb4-f5ceb2db708a",
   "metadata": {},
   "outputs": [],
   "source": [
    "c = DrawCanvas(root, width=300, height=300, bg='#E8D7F1')\n",
    "c.pack(expand=True, fill='both')\n",
    "c.bind('<1>', c.paint)\n",
    "c.bind('<B1-Motion>', c.paint)\n",
    "root.mainloop()"
   ]
  },
  {
   "cell_type": "markdown",
   "id": "435baa6e-6065-4617-a3bb-2ebd86d2f198",
   "metadata": {},
   "source": [
    "Try clicking and dragging the mouse on the new window!"
   ]
  }
 ],
 "metadata": {
  "kernelspec": {
   "display_name": "Python 3 (ipykernel)",
   "language": "python",
   "name": "python3"
  },
  "language_info": {
   "codemirror_mode": {
    "name": "ipython",
    "version": 3
   },
   "file_extension": ".py",
   "mimetype": "text/x-python",
   "name": "python",
   "nbconvert_exporter": "python",
   "pygments_lexer": "ipython3",
   "version": "3.10.5"
  }
 },
 "nbformat": 4,
 "nbformat_minor": 5
}
