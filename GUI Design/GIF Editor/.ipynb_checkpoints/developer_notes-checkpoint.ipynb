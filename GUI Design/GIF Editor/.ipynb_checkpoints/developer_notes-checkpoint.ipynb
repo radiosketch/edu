{
 "cells": [
  {
   "cell_type": "markdown",
   "id": "5c34b1dd-0db0-4518-b5ef-fdefae9b2310",
   "metadata": {},
   "source": [
    "## To Do:\n",
    "- Convert the non-gui implementation in main.py to use a gui\n",
    "- Use [tkinter documentation](https://docs.python.org/3/library/tk.html)\n",
    "- Implement the following features:\n",
    "    - Timeline Scrubbing\n",
    "        - View edits as highlighted sections on the timeline\n",
    "        - Multiple edits are shown in horizontal strips, stacked on top of each other, with identifying colors, text, and relevant info\n",
    "        - Drag the edges of a strip to change the duration\n",
    "    - Edit Durations\n",
    "        - Input the number of frames a particular edit should be duplicated across.\n",
    "    - Copy/Paste Selection\n",
    "        - Click the tool icon\n",
    "        - Drag or Click two points, A & B, to select a rectangle.\n",
    "        - Drag the corners to edit the selection\n",
    "        - Press Enter to Select"
   ]
  }
 ],
 "metadata": {
  "kernelspec": {
   "display_name": "Python 3 (ipykernel)",
   "language": "python",
   "name": "python3"
  },
  "language_info": {
   "codemirror_mode": {
    "name": "ipython",
    "version": 3
   },
   "file_extension": ".py",
   "mimetype": "text/x-python",
   "name": "python",
   "nbconvert_exporter": "python",
   "pygments_lexer": "ipython3",
   "version": "3.10.5"
  }
 },
 "nbformat": 4,
 "nbformat_minor": 5
}
